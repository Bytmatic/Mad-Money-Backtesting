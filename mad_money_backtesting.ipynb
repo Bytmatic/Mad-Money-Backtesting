{
 "cells": [
  {
   "cell_type": "markdown",
   "metadata": {},
   "source": [
    "# Backtesting the \"Cramer Effect\""
   ]
  },
  {
   "cell_type": "markdown",
   "metadata": {},
   "source": [
    "**The cramer-effect/cramer-bounce**: After the show *Mad Money* the recommended stocks are bought by viewers almost immediately (afterhours trading) or on the next day at market open, increasing the price for a short period of time.\n",
    "\n",
    "**Facts:**\n",
    "- Mad money is at 6:00 PM ET\n",
    "    - (This is 10:00 PM UTC+0) \n",
    "- NYSE is open from 9:30 AM to 4:00 PM ET\n",
    "    - (This is 1:30 PM to 8:00 PM UTC+0)\n",
    "\n",
    "**Because of the above:**\n",
    "- People buy the mentioned stocks\n",
    "    - After the show (7:00 PM ET) (+/- 30mins)\n",
    "    - Next trading day at Open (+/- 30mins)\n",
    "- The increase is for a short period of time, but there are no exact figures, we can test on multiple hold periods\n",
    "    - Next day Close\n",
    "    - 1, 2, 3, ... days at Close\n",
    "- (If the show was on Friday night, we won't care about it and won't buy or sell) --> TODO: Should we use the next available business date? e.g. monday?\n",
    "\n",
    "Refs:\n",
    "- https://www.investopedia.com/terms/c/cramerbounce.asp\n",
    "- https://www.kiplinger.com/article/investing/t031-c023-s001-the-cramer-effect.html\n",
    "- https://www.davemanuel.com/investor-dictionary/cramer-effect/"
   ]
  },
  {
   "cell_type": "code",
   "execution_count": 1,
   "metadata": {},
   "outputs": [],
   "source": [
    "%load_ext autoreload\n",
    "%autoreload 2"
   ]
  },
  {
   "cell_type": "code",
   "execution_count": 2,
   "metadata": {},
   "outputs": [
    {
     "name": "stderr",
     "output_type": "stream",
     "text": [
      "C:\\Users\\vecse\\anaconda3\\lib\\site-packages\\backtesting\\_plotting.py:45: UserWarning: Jupyter Notebook detected. Setting Bokeh output to notebook. This may not work in Jupyter clients without JavaScript support (e.g. PyCharm, Spyder IDE). Reset with `backtesting.set_bokeh_output(notebook=False)`.\n",
      "  warnings.warn('Jupyter Notebook detected. '\n"
     ]
    },
    {
     "data": {
      "text/html": [
       "\n",
       "    <div class=\"bk-root\">\n",
       "        <a href=\"https://bokeh.org\" target=\"_blank\" class=\"bk-logo bk-logo-small bk-logo-notebook\"></a>\n",
       "        <span id=\"1001\">Loading BokehJS ...</span>\n",
       "    </div>"
      ]
     },
     "metadata": {},
     "output_type": "display_data"
    },
    {
     "data": {
      "application/javascript": [
       "\n",
       "(function(root) {\n",
       "  function now() {\n",
       "    return new Date();\n",
       "  }\n",
       "\n",
       "  var force = true;\n",
       "\n",
       "  if (typeof root._bokeh_onload_callbacks === \"undefined\" || force === true) {\n",
       "    root._bokeh_onload_callbacks = [];\n",
       "    root._bokeh_is_loading = undefined;\n",
       "  }\n",
       "\n",
       "  var JS_MIME_TYPE = 'application/javascript';\n",
       "  var HTML_MIME_TYPE = 'text/html';\n",
       "  var EXEC_MIME_TYPE = 'application/vnd.bokehjs_exec.v0+json';\n",
       "  var CLASS_NAME = 'output_bokeh rendered_html';\n",
       "\n",
       "  /**\n",
       "   * Render data to the DOM node\n",
       "   */\n",
       "  function render(props, node) {\n",
       "    var script = document.createElement(\"script\");\n",
       "    node.appendChild(script);\n",
       "  }\n",
       "\n",
       "  /**\n",
       "   * Handle when an output is cleared or removed\n",
       "   */\n",
       "  function handleClearOutput(event, handle) {\n",
       "    var cell = handle.cell;\n",
       "\n",
       "    var id = cell.output_area._bokeh_element_id;\n",
       "    var server_id = cell.output_area._bokeh_server_id;\n",
       "    // Clean up Bokeh references\n",
       "    if (id != null && id in Bokeh.index) {\n",
       "      Bokeh.index[id].model.document.clear();\n",
       "      delete Bokeh.index[id];\n",
       "    }\n",
       "\n",
       "    if (server_id !== undefined) {\n",
       "      // Clean up Bokeh references\n",
       "      var cmd = \"from bokeh.io.state import curstate; print(curstate().uuid_to_server['\" + server_id + \"'].get_sessions()[0].document.roots[0]._id)\";\n",
       "      cell.notebook.kernel.execute(cmd, {\n",
       "        iopub: {\n",
       "          output: function(msg) {\n",
       "            var id = msg.content.text.trim();\n",
       "            if (id in Bokeh.index) {\n",
       "              Bokeh.index[id].model.document.clear();\n",
       "              delete Bokeh.index[id];\n",
       "            }\n",
       "          }\n",
       "        }\n",
       "      });\n",
       "      // Destroy server and session\n",
       "      var cmd = \"import bokeh.io.notebook as ion; ion.destroy_server('\" + server_id + \"')\";\n",
       "      cell.notebook.kernel.execute(cmd);\n",
       "    }\n",
       "  }\n",
       "\n",
       "  /**\n",
       "   * Handle when a new output is added\n",
       "   */\n",
       "  function handleAddOutput(event, handle) {\n",
       "    var output_area = handle.output_area;\n",
       "    var output = handle.output;\n",
       "\n",
       "    // limit handleAddOutput to display_data with EXEC_MIME_TYPE content only\n",
       "    if ((output.output_type != \"display_data\") || (!output.data.hasOwnProperty(EXEC_MIME_TYPE))) {\n",
       "      return\n",
       "    }\n",
       "\n",
       "    var toinsert = output_area.element.find(\".\" + CLASS_NAME.split(' ')[0]);\n",
       "\n",
       "    if (output.metadata[EXEC_MIME_TYPE][\"id\"] !== undefined) {\n",
       "      toinsert[toinsert.length - 1].firstChild.textContent = output.data[JS_MIME_TYPE];\n",
       "      // store reference to embed id on output_area\n",
       "      output_area._bokeh_element_id = output.metadata[EXEC_MIME_TYPE][\"id\"];\n",
       "    }\n",
       "    if (output.metadata[EXEC_MIME_TYPE][\"server_id\"] !== undefined) {\n",
       "      var bk_div = document.createElement(\"div\");\n",
       "      bk_div.innerHTML = output.data[HTML_MIME_TYPE];\n",
       "      var script_attrs = bk_div.children[0].attributes;\n",
       "      for (var i = 0; i < script_attrs.length; i++) {\n",
       "        toinsert[toinsert.length - 1].firstChild.setAttribute(script_attrs[i].name, script_attrs[i].value);\n",
       "        toinsert[toinsert.length - 1].firstChild.textContent = bk_div.children[0].textContent\n",
       "      }\n",
       "      // store reference to server id on output_area\n",
       "      output_area._bokeh_server_id = output.metadata[EXEC_MIME_TYPE][\"server_id\"];\n",
       "    }\n",
       "  }\n",
       "\n",
       "  function register_renderer(events, OutputArea) {\n",
       "\n",
       "    function append_mime(data, metadata, element) {\n",
       "      // create a DOM node to render to\n",
       "      var toinsert = this.create_output_subarea(\n",
       "        metadata,\n",
       "        CLASS_NAME,\n",
       "        EXEC_MIME_TYPE\n",
       "      );\n",
       "      this.keyboard_manager.register_events(toinsert);\n",
       "      // Render to node\n",
       "      var props = {data: data, metadata: metadata[EXEC_MIME_TYPE]};\n",
       "      render(props, toinsert[toinsert.length - 1]);\n",
       "      element.append(toinsert);\n",
       "      return toinsert\n",
       "    }\n",
       "\n",
       "    /* Handle when an output is cleared or removed */\n",
       "    events.on('clear_output.CodeCell', handleClearOutput);\n",
       "    events.on('delete.Cell', handleClearOutput);\n",
       "\n",
       "    /* Handle when a new output is added */\n",
       "    events.on('output_added.OutputArea', handleAddOutput);\n",
       "\n",
       "    /**\n",
       "     * Register the mime type and append_mime function with output_area\n",
       "     */\n",
       "    OutputArea.prototype.register_mime_type(EXEC_MIME_TYPE, append_mime, {\n",
       "      /* Is output safe? */\n",
       "      safe: true,\n",
       "      /* Index of renderer in `output_area.display_order` */\n",
       "      index: 0\n",
       "    });\n",
       "  }\n",
       "\n",
       "  // register the mime type if in Jupyter Notebook environment and previously unregistered\n",
       "  if (root.Jupyter !== undefined) {\n",
       "    var events = require('base/js/events');\n",
       "    var OutputArea = require('notebook/js/outputarea').OutputArea;\n",
       "\n",
       "    if (OutputArea.prototype.mime_types().indexOf(EXEC_MIME_TYPE) == -1) {\n",
       "      register_renderer(events, OutputArea);\n",
       "    }\n",
       "  }\n",
       "\n",
       "  \n",
       "  if (typeof (root._bokeh_timeout) === \"undefined\" || force === true) {\n",
       "    root._bokeh_timeout = Date.now() + 5000;\n",
       "    root._bokeh_failed_load = false;\n",
       "  }\n",
       "\n",
       "  var NB_LOAD_WARNING = {'data': {'text/html':\n",
       "     \"<div style='background-color: #fdd'>\\n\"+\n",
       "     \"<p>\\n\"+\n",
       "     \"BokehJS does not appear to have successfully loaded. If loading BokehJS from CDN, this \\n\"+\n",
       "     \"may be due to a slow or bad network connection. Possible fixes:\\n\"+\n",
       "     \"</p>\\n\"+\n",
       "     \"<ul>\\n\"+\n",
       "     \"<li>re-rerun `output_notebook()` to attempt to load from CDN again, or</li>\\n\"+\n",
       "     \"<li>use INLINE resources instead, as so:</li>\\n\"+\n",
       "     \"</ul>\\n\"+\n",
       "     \"<code>\\n\"+\n",
       "     \"from bokeh.resources import INLINE\\n\"+\n",
       "     \"output_notebook(resources=INLINE)\\n\"+\n",
       "     \"</code>\\n\"+\n",
       "     \"</div>\"}};\n",
       "\n",
       "  function display_loaded() {\n",
       "    var el = document.getElementById(\"1001\");\n",
       "    if (el != null) {\n",
       "      el.textContent = \"BokehJS is loading...\";\n",
       "    }\n",
       "    if (root.Bokeh !== undefined) {\n",
       "      if (el != null) {\n",
       "        el.textContent = \"BokehJS \" + root.Bokeh.version + \" successfully loaded.\";\n",
       "      }\n",
       "    } else if (Date.now() < root._bokeh_timeout) {\n",
       "      setTimeout(display_loaded, 100)\n",
       "    }\n",
       "  }\n",
       "\n",
       "\n",
       "  function run_callbacks() {\n",
       "    try {\n",
       "      root._bokeh_onload_callbacks.forEach(function(callback) {\n",
       "        if (callback != null)\n",
       "          callback();\n",
       "      });\n",
       "    } finally {\n",
       "      delete root._bokeh_onload_callbacks\n",
       "    }\n",
       "    console.debug(\"Bokeh: all callbacks have finished\");\n",
       "  }\n",
       "\n",
       "  function load_libs(css_urls, js_urls, callback) {\n",
       "    if (css_urls == null) css_urls = [];\n",
       "    if (js_urls == null) js_urls = [];\n",
       "\n",
       "    root._bokeh_onload_callbacks.push(callback);\n",
       "    if (root._bokeh_is_loading > 0) {\n",
       "      console.debug(\"Bokeh: BokehJS is being loaded, scheduling callback at\", now());\n",
       "      return null;\n",
       "    }\n",
       "    if (js_urls == null || js_urls.length === 0) {\n",
       "      run_callbacks();\n",
       "      return null;\n",
       "    }\n",
       "    console.debug(\"Bokeh: BokehJS not loaded, scheduling load and callback at\", now());\n",
       "    root._bokeh_is_loading = css_urls.length + js_urls.length;\n",
       "\n",
       "    function on_load() {\n",
       "      root._bokeh_is_loading--;\n",
       "      if (root._bokeh_is_loading === 0) {\n",
       "        console.debug(\"Bokeh: all BokehJS libraries/stylesheets loaded\");\n",
       "        run_callbacks()\n",
       "      }\n",
       "    }\n",
       "\n",
       "    function on_error() {\n",
       "      console.error(\"failed to load \" + url);\n",
       "    }\n",
       "\n",
       "    for (var i = 0; i < css_urls.length; i++) {\n",
       "      var url = css_urls[i];\n",
       "      const element = document.createElement(\"link\");\n",
       "      element.onload = on_load;\n",
       "      element.onerror = on_error;\n",
       "      element.rel = \"stylesheet\";\n",
       "      element.type = \"text/css\";\n",
       "      element.href = url;\n",
       "      console.debug(\"Bokeh: injecting link tag for BokehJS stylesheet: \", url);\n",
       "      document.body.appendChild(element);\n",
       "    }\n",
       "\n",
       "    const hashes = {\"https://cdn.bokeh.org/bokeh/release/bokeh-2.0.2.min.js\": \"ufR9RFnRs6lniiaFvtJziE0YeidtAgBRH6ux2oUItHw5WTvE1zuk9uzhUU/FJXDp\", \"https://cdn.bokeh.org/bokeh/release/bokeh-widgets-2.0.2.min.js\": \"8QM/PGWBT+IssZuRcDcjzwIh1mkOmJSoNMmyYDZbCfXJg3Ap1lEvdVgFuSAwhb/J\", \"https://cdn.bokeh.org/bokeh/release/bokeh-tables-2.0.2.min.js\": \"Jm8cH3Rg0P6UeZhVY5cLy1WzKajUT9KImCY+76hEqrcJt59/d8GPvFHjCkYgnSIn\", \"https://cdn.bokeh.org/bokeh/release/bokeh-gl-2.0.2.min.js\": \"Ozhzj+SI7ywm74aOI/UajcWz+C0NjsPunEVyVIrxzYkB+jA+2tUw8x5xJCbVtK5I\"};\n",
       "\n",
       "    for (var i = 0; i < js_urls.length; i++) {\n",
       "      var url = js_urls[i];\n",
       "      var element = document.createElement('script');\n",
       "      element.onload = on_load;\n",
       "      element.onerror = on_error;\n",
       "      element.async = false;\n",
       "      element.src = url;\n",
       "      if (url in hashes) {\n",
       "        element.crossOrigin = \"anonymous\";\n",
       "        element.integrity = \"sha384-\" + hashes[url];\n",
       "      }\n",
       "      console.debug(\"Bokeh: injecting script tag for BokehJS library: \", url);\n",
       "      document.head.appendChild(element);\n",
       "    }\n",
       "  };\n",
       "\n",
       "  function inject_raw_css(css) {\n",
       "    const element = document.createElement(\"style\");\n",
       "    element.appendChild(document.createTextNode(css));\n",
       "    document.body.appendChild(element);\n",
       "  }\n",
       "\n",
       "  \n",
       "  var js_urls = [\"https://cdn.bokeh.org/bokeh/release/bokeh-2.0.2.min.js\", \"https://cdn.bokeh.org/bokeh/release/bokeh-widgets-2.0.2.min.js\", \"https://cdn.bokeh.org/bokeh/release/bokeh-tables-2.0.2.min.js\", \"https://cdn.bokeh.org/bokeh/release/bokeh-gl-2.0.2.min.js\"];\n",
       "  var css_urls = [];\n",
       "  \n",
       "\n",
       "  var inline_js = [\n",
       "    function(Bokeh) {\n",
       "      Bokeh.set_log_level(\"info\");\n",
       "    },\n",
       "    function(Bokeh) {\n",
       "    \n",
       "    \n",
       "    }\n",
       "  ];\n",
       "\n",
       "  function run_inline_js() {\n",
       "    \n",
       "    if (root.Bokeh !== undefined || force === true) {\n",
       "      \n",
       "    for (var i = 0; i < inline_js.length; i++) {\n",
       "      inline_js[i].call(root, root.Bokeh);\n",
       "    }\n",
       "    if (force === true) {\n",
       "        display_loaded();\n",
       "      }} else if (Date.now() < root._bokeh_timeout) {\n",
       "      setTimeout(run_inline_js, 100);\n",
       "    } else if (!root._bokeh_failed_load) {\n",
       "      console.log(\"Bokeh: BokehJS failed to load within specified timeout.\");\n",
       "      root._bokeh_failed_load = true;\n",
       "    } else if (force !== true) {\n",
       "      var cell = $(document.getElementById(\"1001\")).parents('.cell').data().cell;\n",
       "      cell.output_area.append_execute_result(NB_LOAD_WARNING)\n",
       "    }\n",
       "\n",
       "  }\n",
       "\n",
       "  if (root._bokeh_is_loading === 0) {\n",
       "    console.debug(\"Bokeh: BokehJS loaded, going straight to plotting\");\n",
       "    run_inline_js();\n",
       "  } else {\n",
       "    load_libs(css_urls, js_urls, function() {\n",
       "      console.debug(\"Bokeh: BokehJS plotting callback run at\", now());\n",
       "      run_inline_js();\n",
       "    });\n",
       "  }\n",
       "}(window));"
      ],
      "application/vnd.bokehjs_load.v0+json": "\n(function(root) {\n  function now() {\n    return new Date();\n  }\n\n  var force = true;\n\n  if (typeof root._bokeh_onload_callbacks === \"undefined\" || force === true) {\n    root._bokeh_onload_callbacks = [];\n    root._bokeh_is_loading = undefined;\n  }\n\n  \n\n  \n  if (typeof (root._bokeh_timeout) === \"undefined\" || force === true) {\n    root._bokeh_timeout = Date.now() + 5000;\n    root._bokeh_failed_load = false;\n  }\n\n  var NB_LOAD_WARNING = {'data': {'text/html':\n     \"<div style='background-color: #fdd'>\\n\"+\n     \"<p>\\n\"+\n     \"BokehJS does not appear to have successfully loaded. If loading BokehJS from CDN, this \\n\"+\n     \"may be due to a slow or bad network connection. Possible fixes:\\n\"+\n     \"</p>\\n\"+\n     \"<ul>\\n\"+\n     \"<li>re-rerun `output_notebook()` to attempt to load from CDN again, or</li>\\n\"+\n     \"<li>use INLINE resources instead, as so:</li>\\n\"+\n     \"</ul>\\n\"+\n     \"<code>\\n\"+\n     \"from bokeh.resources import INLINE\\n\"+\n     \"output_notebook(resources=INLINE)\\n\"+\n     \"</code>\\n\"+\n     \"</div>\"}};\n\n  function display_loaded() {\n    var el = document.getElementById(\"1001\");\n    if (el != null) {\n      el.textContent = \"BokehJS is loading...\";\n    }\n    if (root.Bokeh !== undefined) {\n      if (el != null) {\n        el.textContent = \"BokehJS \" + root.Bokeh.version + \" successfully loaded.\";\n      }\n    } else if (Date.now() < root._bokeh_timeout) {\n      setTimeout(display_loaded, 100)\n    }\n  }\n\n\n  function run_callbacks() {\n    try {\n      root._bokeh_onload_callbacks.forEach(function(callback) {\n        if (callback != null)\n          callback();\n      });\n    } finally {\n      delete root._bokeh_onload_callbacks\n    }\n    console.debug(\"Bokeh: all callbacks have finished\");\n  }\n\n  function load_libs(css_urls, js_urls, callback) {\n    if (css_urls == null) css_urls = [];\n    if (js_urls == null) js_urls = [];\n\n    root._bokeh_onload_callbacks.push(callback);\n    if (root._bokeh_is_loading > 0) {\n      console.debug(\"Bokeh: BokehJS is being loaded, scheduling callback at\", now());\n      return null;\n    }\n    if (js_urls == null || js_urls.length === 0) {\n      run_callbacks();\n      return null;\n    }\n    console.debug(\"Bokeh: BokehJS not loaded, scheduling load and callback at\", now());\n    root._bokeh_is_loading = css_urls.length + js_urls.length;\n\n    function on_load() {\n      root._bokeh_is_loading--;\n      if (root._bokeh_is_loading === 0) {\n        console.debug(\"Bokeh: all BokehJS libraries/stylesheets loaded\");\n        run_callbacks()\n      }\n    }\n\n    function on_error() {\n      console.error(\"failed to load \" + url);\n    }\n\n    for (var i = 0; i < css_urls.length; i++) {\n      var url = css_urls[i];\n      const element = document.createElement(\"link\");\n      element.onload = on_load;\n      element.onerror = on_error;\n      element.rel = \"stylesheet\";\n      element.type = \"text/css\";\n      element.href = url;\n      console.debug(\"Bokeh: injecting link tag for BokehJS stylesheet: \", url);\n      document.body.appendChild(element);\n    }\n\n    const hashes = {\"https://cdn.bokeh.org/bokeh/release/bokeh-2.0.2.min.js\": \"ufR9RFnRs6lniiaFvtJziE0YeidtAgBRH6ux2oUItHw5WTvE1zuk9uzhUU/FJXDp\", \"https://cdn.bokeh.org/bokeh/release/bokeh-widgets-2.0.2.min.js\": \"8QM/PGWBT+IssZuRcDcjzwIh1mkOmJSoNMmyYDZbCfXJg3Ap1lEvdVgFuSAwhb/J\", \"https://cdn.bokeh.org/bokeh/release/bokeh-tables-2.0.2.min.js\": \"Jm8cH3Rg0P6UeZhVY5cLy1WzKajUT9KImCY+76hEqrcJt59/d8GPvFHjCkYgnSIn\", \"https://cdn.bokeh.org/bokeh/release/bokeh-gl-2.0.2.min.js\": \"Ozhzj+SI7ywm74aOI/UajcWz+C0NjsPunEVyVIrxzYkB+jA+2tUw8x5xJCbVtK5I\"};\n\n    for (var i = 0; i < js_urls.length; i++) {\n      var url = js_urls[i];\n      var element = document.createElement('script');\n      element.onload = on_load;\n      element.onerror = on_error;\n      element.async = false;\n      element.src = url;\n      if (url in hashes) {\n        element.crossOrigin = \"anonymous\";\n        element.integrity = \"sha384-\" + hashes[url];\n      }\n      console.debug(\"Bokeh: injecting script tag for BokehJS library: \", url);\n      document.head.appendChild(element);\n    }\n  };\n\n  function inject_raw_css(css) {\n    const element = document.createElement(\"style\");\n    element.appendChild(document.createTextNode(css));\n    document.body.appendChild(element);\n  }\n\n  \n  var js_urls = [\"https://cdn.bokeh.org/bokeh/release/bokeh-2.0.2.min.js\", \"https://cdn.bokeh.org/bokeh/release/bokeh-widgets-2.0.2.min.js\", \"https://cdn.bokeh.org/bokeh/release/bokeh-tables-2.0.2.min.js\", \"https://cdn.bokeh.org/bokeh/release/bokeh-gl-2.0.2.min.js\"];\n  var css_urls = [];\n  \n\n  var inline_js = [\n    function(Bokeh) {\n      Bokeh.set_log_level(\"info\");\n    },\n    function(Bokeh) {\n    \n    \n    }\n  ];\n\n  function run_inline_js() {\n    \n    if (root.Bokeh !== undefined || force === true) {\n      \n    for (var i = 0; i < inline_js.length; i++) {\n      inline_js[i].call(root, root.Bokeh);\n    }\n    if (force === true) {\n        display_loaded();\n      }} else if (Date.now() < root._bokeh_timeout) {\n      setTimeout(run_inline_js, 100);\n    } else if (!root._bokeh_failed_load) {\n      console.log(\"Bokeh: BokehJS failed to load within specified timeout.\");\n      root._bokeh_failed_load = true;\n    } else if (force !== true) {\n      var cell = $(document.getElementById(\"1001\")).parents('.cell').data().cell;\n      cell.output_area.append_execute_result(NB_LOAD_WARNING)\n    }\n\n  }\n\n  if (root._bokeh_is_loading === 0) {\n    console.debug(\"Bokeh: BokehJS loaded, going straight to plotting\");\n    run_inline_js();\n  } else {\n    load_libs(css_urls, js_urls, function() {\n      console.debug(\"Bokeh: BokehJS plotting callback run at\", now());\n      run_inline_js();\n    });\n  }\n}(window));"
     },
     "metadata": {},
     "output_type": "display_data"
    }
   ],
   "source": [
    "from collections import Counter\n",
    "from datetime import datetime, timedelta\n",
    "from typing import List\n",
    "import concurrent.futures\n",
    "import warnings\n",
    "\n",
    "import numpy as np\n",
    "import pandas as pd\n",
    "import backtesting\n",
    "from tqdm import tqdm\n",
    "import yfinance\n",
    "\n",
    "import matplotlib.pyplot as plt\n",
    "import seaborn as sns\n",
    "%matplotlib inline\n",
    "\n",
    "import mad_money_backtesting as mmb"
   ]
  },
  {
   "cell_type": "code",
   "execution_count": 3,
   "metadata": {},
   "outputs": [],
   "source": [
    "warnings.simplefilter(\"ignore\")"
   ]
  },
  {
   "cell_type": "markdown",
   "metadata": {},
   "source": [
    "# Constants"
   ]
  },
  {
   "cell_type": "code",
   "execution_count": 4,
   "metadata": {},
   "outputs": [],
   "source": [
    "BACKTEST_FROM = \"2020-01-01\"\n",
    "CASH_PER_STOCK = 1000 # if a stocks price is bigger than this, we will skip it\n",
    "COMMISSION_RATE = 0.02"
   ]
  },
  {
   "cell_type": "markdown",
   "metadata": {},
   "source": [
    "# Read the csv"
   ]
  },
  {
   "cell_type": "code",
   "execution_count": 5,
   "metadata": {},
   "outputs": [],
   "source": [
    "df = pd.read_csv(\"mad_money.csv\", parse_dates=[\"date\"])"
   ]
  },
  {
   "cell_type": "code",
   "execution_count": 6,
   "metadata": {},
   "outputs": [
    {
     "data": {
      "text/html": [
       "<div>\n",
       "<style scoped>\n",
       "    .dataframe tbody tr th:only-of-type {\n",
       "        vertical-align: middle;\n",
       "    }\n",
       "\n",
       "    .dataframe tbody tr th {\n",
       "        vertical-align: top;\n",
       "    }\n",
       "\n",
       "    .dataframe thead th {\n",
       "        text-align: right;\n",
       "    }\n",
       "</style>\n",
       "<table border=\"1\" class=\"dataframe\">\n",
       "  <thead>\n",
       "    <tr style=\"text-align: right;\">\n",
       "      <th></th>\n",
       "      <th>Unnamed: 0</th>\n",
       "      <th>name</th>\n",
       "      <th>month_and_day</th>\n",
       "      <th>segment</th>\n",
       "      <th>call</th>\n",
       "      <th>current_price</th>\n",
       "      <th>date</th>\n",
       "      <th>symbol</th>\n",
       "    </tr>\n",
       "  </thead>\n",
       "  <tbody>\n",
       "    <tr>\n",
       "      <th>0</th>\n",
       "      <td>0</td>\n",
       "      <td>CrowdStrike (CRWD)</td>\n",
       "      <td>01/03</td>\n",
       "      <td>I</td>\n",
       "      <td>buy</td>\n",
       "      <td>50.75</td>\n",
       "      <td>2020-01-03</td>\n",
       "      <td>CRWD</td>\n",
       "    </tr>\n",
       "    <tr>\n",
       "      <th>1</th>\n",
       "      <td>1</td>\n",
       "      <td>Lam Research (LRCX)</td>\n",
       "      <td>01/03</td>\n",
       "      <td>D</td>\n",
       "      <td>buy</td>\n",
       "      <td>294.69</td>\n",
       "      <td>2020-01-03</td>\n",
       "      <td>LRCX</td>\n",
       "    </tr>\n",
       "    <tr>\n",
       "      <th>2</th>\n",
       "      <td>2</td>\n",
       "      <td>Microsoft (MSFT)</td>\n",
       "      <td>01/03</td>\n",
       "      <td>D</td>\n",
       "      <td>buy</td>\n",
       "      <td>158.62</td>\n",
       "      <td>2020-01-03</td>\n",
       "      <td>MSFT</td>\n",
       "    </tr>\n",
       "    <tr>\n",
       "      <th>3</th>\n",
       "      <td>3</td>\n",
       "      <td>Nike (NKE)</td>\n",
       "      <td>01/03</td>\n",
       "      <td>D</td>\n",
       "      <td>buy</td>\n",
       "      <td>101.92</td>\n",
       "      <td>2020-01-03</td>\n",
       "      <td>NKE</td>\n",
       "    </tr>\n",
       "    <tr>\n",
       "      <th>4</th>\n",
       "      <td>4</td>\n",
       "      <td>Procter &amp; Gamble (PG)</td>\n",
       "      <td>01/03</td>\n",
       "      <td>D</td>\n",
       "      <td>buy</td>\n",
       "      <td>122.58</td>\n",
       "      <td>2020-01-03</td>\n",
       "      <td>PG</td>\n",
       "    </tr>\n",
       "  </tbody>\n",
       "</table>\n",
       "</div>"
      ],
      "text/plain": [
       "   Unnamed: 0                   name month_and_day segment call  \\\n",
       "0           0     CrowdStrike (CRWD)         01/03       I  buy   \n",
       "1           1    Lam Research (LRCX)         01/03       D  buy   \n",
       "2           2       Microsoft (MSFT)         01/03       D  buy   \n",
       "3           3             Nike (NKE)         01/03       D  buy   \n",
       "4           4  Procter & Gamble (PG)         01/03       D  buy   \n",
       "\n",
       "   current_price       date symbol  \n",
       "0          50.75 2020-01-03   CRWD  \n",
       "1         294.69 2020-01-03   LRCX  \n",
       "2         158.62 2020-01-03   MSFT  \n",
       "3         101.92 2020-01-03    NKE  \n",
       "4         122.58 2020-01-03     PG  "
      ]
     },
     "execution_count": 6,
     "metadata": {},
     "output_type": "execute_result"
    }
   ],
   "source": [
    "df.head()"
   ]
  },
  {
   "cell_type": "markdown",
   "metadata": {},
   "source": [
    "# Filter the data"
   ]
  },
  {
   "cell_type": "markdown",
   "metadata": {},
   "source": [
    "## Call type filter\n",
    "\n",
    "We only care about the \"buy\" mentions, but this can be extended to the \"positive\" mentions as well"
   ]
  },
  {
   "cell_type": "code",
   "execution_count": 7,
   "metadata": {},
   "outputs": [],
   "source": [
    "df = df[df[\"call\"] == \"buy\"]"
   ]
  },
  {
   "cell_type": "markdown",
   "metadata": {},
   "source": [
    "# Minimal Stats"
   ]
  },
  {
   "cell_type": "code",
   "execution_count": 8,
   "metadata": {},
   "outputs": [
    {
     "name": "stdout",
     "output_type": "stream",
     "text": [
      "Number of unique symbols in selected range: 733\n"
     ]
    }
   ],
   "source": [
    "print(f\"Number of unique symbols in selected range: {len(df['symbol'].unique())}\")"
   ]
  },
  {
   "cell_type": "code",
   "execution_count": 9,
   "metadata": {},
   "outputs": [],
   "source": [
    "c = Counter(df['symbol'].values).most_common()"
   ]
  },
  {
   "cell_type": "code",
   "execution_count": 10,
   "metadata": {},
   "outputs": [
    {
     "name": "stdout",
     "output_type": "stream",
     "text": [
      "Top 5 Symbol mentions from Cramer: [('AAPL', 76), ('TSLA', 63), ('ZM', 45), ('COST', 41), ('HD', 41)]\n"
     ]
    }
   ],
   "source": [
    "print(f\"Top 5 Symbol mentions from Cramer: {c[:5]}\")"
   ]
  },
  {
   "cell_type": "markdown",
   "metadata": {},
   "source": [
    "# Backtest all mentioned stocks"
   ]
  },
  {
   "cell_type": "markdown",
   "metadata": {},
   "source": [
    "## Filter based on the date"
   ]
  },
  {
   "cell_type": "code",
   "execution_count": 11,
   "metadata": {},
   "outputs": [],
   "source": [
    "if BACKTEST_FROM is None:\n",
    "    BACKTEST_FROM = df[\"date\"].values[0]"
   ]
  },
  {
   "cell_type": "code",
   "execution_count": 12,
   "metadata": {},
   "outputs": [],
   "source": [
    "df = df[df[\"date\"] >= BACKTEST_FROM]"
   ]
  },
  {
   "cell_type": "code",
   "execution_count": 13,
   "metadata": {},
   "outputs": [
    {
     "name": "stdout",
     "output_type": "stream",
     "text": [
      "Backtesting starts from 2020-01-03T00:00:00.000000000 and lasts until 2021-05-21T00:00:00.000000000\n"
     ]
    }
   ],
   "source": [
    "print(f\"Backtesting starts from {df.date.values[0]} and lasts until {df.date.values[-1]}\")"
   ]
  },
  {
   "cell_type": "markdown",
   "metadata": {},
   "source": [
    "## Filter based on price"
   ]
  },
  {
   "cell_type": "code",
   "execution_count": 14,
   "metadata": {},
   "outputs": [],
   "source": [
    "df = df[df[\"current_price\"] <= CASH_PER_STOCK]"
   ]
  },
  {
   "cell_type": "markdown",
   "metadata": {},
   "source": [
    "## Filter Fridays - TODO: do we always want to filter them?"
   ]
  },
  {
   "cell_type": "code",
   "execution_count": 15,
   "metadata": {},
   "outputs": [],
   "source": [
    "df = df[df[\"date\"].dt.day_name() != \"Friday\"]"
   ]
  },
  {
   "cell_type": "markdown",
   "metadata": {},
   "source": [
    "## Define backtesting for a single stock"
   ]
  },
  {
   "cell_type": "markdown",
   "metadata": {},
   "source": [
    "TODO: writeup on how the backtesting goes and how buy and sell dates calculated"
   ]
  },
  {
   "cell_type": "code",
   "execution_count": 16,
   "metadata": {},
   "outputs": [],
   "source": [
    "def backtest_single_stock(symbol, mad_money_df, cash, commission, buy_date_fn, sell_date_fn):\n",
    "    # Get the dates when the Stock was recommended\n",
    "    recommendation_dates = mad_money_df[mad_money_df[\"symbol\"] == symbol][\"date\"]\n",
    "    recommendation_dates = [mmb.pd_date_to_datetime(x) for x in recommendation_dates]\n",
    "    \n",
    "    # The difference between the first and last mention\n",
    "    # nb_days = len(pd.bdate_range(recommendation_dates[0], recommendation_dates[-1]))\n",
    "    # if nb_days > 730:\n",
    "    #     raise ValueError(f\"We cannot download data for this range. It's more than 730 days. It's {nb_days}\")\n",
    "    nb_days = 300\n",
    "    \n",
    "    # Calculate when to buy and when to sell a stock\n",
    "    buy_dates = [buy_date_fn(x) for x in recommendation_dates]\n",
    "    sell_dates = [sell_date_fn(x) for x in buy_dates]\n",
    "    \n",
    "    # Download the stock data - with pre and post data\n",
    "    # TODO: number of days should be a parameter\n",
    "    stock_df = yfinance.Ticker(symbol).history(period=f\"{nb_days}d\", interval=\"1h\", prepost=True)\n",
    "    if len(stock_df) < 1:\n",
    "        raise ValueError(f\"There is not data in the dataframe for: {symbol}\")\n",
    "    stock_df[\"Date\"] = stock_df.index\n",
    "    stock_df.dropna(inplace=True)\n",
    "    \n",
    "    # Run the backtesting with our strategy\n",
    "    bt = backtesting.Backtest(stock_df, mmb.MadMoneyStrategy, cash=cash, commission=commission, trade_on_close=True)\n",
    "    results = bt.run(buy_dates=buy_dates, sell_dates=sell_dates, buy_size=0.999)\n",
    "    \n",
    "    return bt, results"
   ]
  },
  {
   "cell_type": "markdown",
   "metadata": {},
   "source": [
    "## Buy and Sell date calculation\n",
    "\n",
    "- Buy dates are calculated from the \"recommendation dates\" (date when Cramer mentioned the stock)\n",
    "- Sell dates are calculated from the previously calculated Buy dates\n",
    "\n",
    "Pay attention to the time adjustment. From Marc 28. to Oct 31\n",
    "\n",
    "This is done under the hood, you'll need to define 2 functions just like this:\n",
    "\n",
    "```python\n",
    "def buy_at_next_day_open(date_of_recommendation):\n",
    "    # We want to buy the next market open\n",
    "    return mmb.pd_date_to_datetime(date_of_recommendation, 9, 30) + timedelta(days=1)\n",
    "\n",
    "\n",
    "def sell_at_next_day_close(date_of_last_buy):\n",
    "    # We want to sell at the end of the trading day (when we bought it)\n",
    "    return date_of_last_buy.replace(hour=16, minute=0)\n",
    "```"
   ]
  },
  {
   "cell_type": "code",
   "execution_count": 17,
   "metadata": {},
   "outputs": [],
   "source": [
    "### Functions to Buy at next market day's Open and Sell at the end of the day ###\n",
    "\n",
    "# def buy_at_next_day_open(date_of_recommendation):\n",
    "#     return mmb.pd_date_to_datetime(date_of_recommendation, 9, 30) + timedelta(days=1)\n",
    "# \n",
    "# \n",
    "# def sell_at_next_day_close(date_of_last_buy):\n",
    "#     return date_of_last_buy.replace(hour=16, minute=0)\n",
    "\n",
    "### Functions to Buy at the end of the show (7:00 PM ET) and sell next day Close or Open ###\n",
    "\n",
    "def buy_at_the_end_of_the_show(date_of_recommendation):\n",
    "    return mmb.pd_date_to_datetime(date_of_recommendation, 19, 0)\n",
    "\n",
    "\n",
    "def sell_at_next_day_close(date_of_last_buy):\n",
    "    return date_of_last_buy.replace(hour=16, minute=0) + timedelta(days=1)\n",
    "\n",
    "\n",
    "def sell_at_next_day_open(date_of_last_buy):\n",
    "    return date_of_last_buy.replace(hour=9, minute=30) + timedelta(days=1)"
   ]
  },
  {
   "cell_type": "code",
   "execution_count": 18,
   "metadata": {},
   "outputs": [],
   "source": [
    "buy_date_calc_fn = buy_at_the_end_of_the_show\n",
    "sell_day_calc_fn = sell_at_next_day_close"
   ]
  },
  {
   "cell_type": "code",
   "execution_count": 19,
   "metadata": {},
   "outputs": [
    {
     "name": "stderr",
     "output_type": "stream",
     "text": [
      "100%|███████████████████████████████████████████████████████████████████████████████████████████████████████████████████████████████████████████████████████████████████████████████████████████████████████████████████| 10/10 [00:02<00:00,  3.99it/s]\n"
     ]
    }
   ],
   "source": [
    "stocks_to_backtest = df[\"symbol\"].unique()[:10]\n",
    "pbar = tqdm(total=len(stocks_to_backtest))\n",
    "\n",
    "bt_results = {}\n",
    "\n",
    "with concurrent.futures.ThreadPoolExecutor() as executor:\n",
    "    futures = {}\n",
    "    \n",
    "    for symbol in stocks_to_backtest:\n",
    "        f = executor.submit(backtest_single_stock,\n",
    "                            symbol=symbol,\n",
    "                            mad_money_df=df,\n",
    "                            cash=CASH_PER_STOCK,\n",
    "                            commission=COMMISSION_RATE,\n",
    "                            buy_date_fn=buy_date_calc_fn,\n",
    "                            sell_date_fn=sell_day_calc_fn)\n",
    "        futures[f] = symbol\n",
    "        \n",
    "    for f in concurrent.futures.as_completed(futures):\n",
    "        symbol = futures[f]\n",
    "        \n",
    "        try:\n",
    "            bt_obj, bt_result = f.result()\n",
    "            bt_results[symbol] = {\"obj\":bt_obj, \"result\":bt_result}\n",
    "        except Exception as e:\n",
    "            print(f\"There was a problem with {symbol} - {e}\")\n",
    "            \n",
    "        pbar.update(1)\n",
    "            \n",
    "pbar.close()"
   ]
  },
  {
   "cell_type": "code",
   "execution_count": 20,
   "metadata": {},
   "outputs": [],
   "source": [
    "results_df = mmb.summarize_backtesting_results(results=[x[\"result\"] for x in bt_results.values()],\n",
    "                                               symbols=list(bt_results.keys()),\n",
    "                                               include_parameters=False,\n",
    "                                               sort_by=\"Return [%]\")"
   ]
  },
  {
   "cell_type": "code",
   "execution_count": 21,
   "metadata": {},
   "outputs": [
    {
     "data": {
      "text/html": [
       "<style  type=\"text/css\" >\n",
       "#T_78b3a_row0_col0,#T_78b3a_row0_col1,#T_78b3a_row0_col2,#T_78b3a_row0_col3{\n",
       "            background-color:  #000004;\n",
       "            color:  #f1f1f1;\n",
       "        }#T_78b3a_row1_col0,#T_78b3a_row1_col1,#T_78b3a_row2_col0,#T_78b3a_row2_col1,#T_78b3a_row3_col0,#T_78b3a_row3_col1,#T_78b3a_row4_col0,#T_78b3a_row4_col1{\n",
       "            background-color:  #010108;\n",
       "            color:  #f1f1f1;\n",
       "        }#T_78b3a_row1_col2,#T_78b3a_row2_col2,#T_78b3a_row3_col2,#T_78b3a_row4_col2,#T_78b3a_row4_col3,#T_78b3a_row6_col2,#T_78b3a_row7_col2,#T_78b3a_row8_col2,#T_78b3a_row9_col0,#T_78b3a_row9_col1,#T_78b3a_row9_col2{\n",
       "            background-color:  #fcfdbf;\n",
       "            color:  #000000;\n",
       "        }#T_78b3a_row1_col3{\n",
       "            background-color:  #e34e65;\n",
       "            color:  #000000;\n",
       "        }#T_78b3a_row2_col3{\n",
       "            background-color:  #02020d;\n",
       "            color:  #f1f1f1;\n",
       "        }#T_78b3a_row3_col3{\n",
       "            background-color:  #311165;\n",
       "            color:  #f1f1f1;\n",
       "        }#T_78b3a_row5_col0,#T_78b3a_row5_col1{\n",
       "            background-color:  #08071e;\n",
       "            color:  #f1f1f1;\n",
       "        }#T_78b3a_row5_col2{\n",
       "            background-color:  #f9785d;\n",
       "            color:  #000000;\n",
       "        }#T_78b3a_row5_col3{\n",
       "            background-color:  #9b2e7f;\n",
       "            color:  #f1f1f1;\n",
       "        }#T_78b3a_row6_col0,#T_78b3a_row6_col1{\n",
       "            background-color:  #2c115f;\n",
       "            color:  #f1f1f1;\n",
       "        }#T_78b3a_row6_col3{\n",
       "            background-color:  #b5367a;\n",
       "            color:  #f1f1f1;\n",
       "        }#T_78b3a_row7_col0,#T_78b3a_row7_col1{\n",
       "            background-color:  #3d0f71;\n",
       "            color:  #f1f1f1;\n",
       "        }#T_78b3a_row7_col3{\n",
       "            background-color:  #cc3f71;\n",
       "            color:  #f1f1f1;\n",
       "        }#T_78b3a_row8_col0,#T_78b3a_row8_col1{\n",
       "            background-color:  #feca8d;\n",
       "            color:  #000000;\n",
       "        }#T_78b3a_row8_col3{\n",
       "            background-color:  #fc8e64;\n",
       "            color:  #000000;\n",
       "        }#T_78b3a_row9_col3{\n",
       "            background-color:  #8e2a81;\n",
       "            color:  #f1f1f1;\n",
       "        }</style><table id=\"T_78b3a_\" ><thead>    <tr>        <th class=\"blank level0\" ></th>        <th class=\"col_heading level0 col0\" >Return [%]</th>        <th class=\"col_heading level0 col1\" >Equity Final [$]</th>        <th class=\"col_heading level0 col2\" >Equity Peak [$]</th>        <th class=\"col_heading level0 col3\" >Buy & Hold Return [%]</th>        <th class=\"col_heading level0 col4\" >Start</th>        <th class=\"col_heading level0 col5\" >End</th>    </tr>    <tr>        <th class=\"index_name level0\" >Strategy</th>        <th class=\"blank\" ></th>        <th class=\"blank\" ></th>        <th class=\"blank\" ></th>        <th class=\"blank\" ></th>        <th class=\"blank\" ></th>        <th class=\"blank\" ></th>    </tr></thead><tbody>\n",
       "                <tr>\n",
       "                        <th id=\"T_78b3a_level0_row0\" class=\"row_heading level0 row0\" >MadMoneyStrategy (PXD)</th>\n",
       "                        <td id=\"T_78b3a_row0_col0\" class=\"data row0 col0\" >0.256680</td>\n",
       "                        <td id=\"T_78b3a_row0_col1\" class=\"data row0 col1\" >1002.566800</td>\n",
       "                        <td id=\"T_78b3a_row0_col2\" class=\"data row0 col2\" >1054.130826</td>\n",
       "                        <td id=\"T_78b3a_row0_col3\" class=\"data row0 col3\" >150.516879</td>\n",
       "                        <td id=\"T_78b3a_row0_col4\" class=\"data row0 col4\" >2020-03-16 08:00:00-04:00</td>\n",
       "                        <td id=\"T_78b3a_row0_col5\" class=\"data row0 col5\" >2021-05-21 19:00:00-04:00</td>\n",
       "            </tr>\n",
       "            <tr>\n",
       "                        <th id=\"T_78b3a_level0_row1\" class=\"row_heading level0 row1\" >MadMoneyStrategy (GLD)</th>\n",
       "                        <td id=\"T_78b3a_row1_col0\" class=\"data row1 col0\" >0.000000</td>\n",
       "                        <td id=\"T_78b3a_row1_col1\" class=\"data row1 col1\" >1000.000000</td>\n",
       "                        <td id=\"T_78b3a_row1_col2\" class=\"data row1 col2\" >1000.000000</td>\n",
       "                        <td id=\"T_78b3a_row1_col3\" class=\"data row1 col3\" >22.132908</td>\n",
       "                        <td id=\"T_78b3a_row1_col4\" class=\"data row1 col4\" >2020-03-16 04:00:00-04:00</td>\n",
       "                        <td id=\"T_78b3a_row1_col5\" class=\"data row1 col5\" >2021-05-21 19:00:00-04:00</td>\n",
       "            </tr>\n",
       "            <tr>\n",
       "                        <th id=\"T_78b3a_level0_row2\" class=\"row_heading level0 row2\" >MadMoneyStrategy (KSS)</th>\n",
       "                        <td id=\"T_78b3a_row2_col0\" class=\"data row2 col0\" >0.000000</td>\n",
       "                        <td id=\"T_78b3a_row2_col1\" class=\"data row2 col1\" >1000.000000</td>\n",
       "                        <td id=\"T_78b3a_row2_col2\" class=\"data row2 col2\" >1000.000000</td>\n",
       "                        <td id=\"T_78b3a_row2_col3\" class=\"data row2 col3\" >145.252158</td>\n",
       "                        <td id=\"T_78b3a_row2_col4\" class=\"data row2 col4\" >2020-03-16 04:00:00-04:00</td>\n",
       "                        <td id=\"T_78b3a_row2_col5\" class=\"data row2 col5\" >2021-05-21 19:00:00-04:00</td>\n",
       "            </tr>\n",
       "            <tr>\n",
       "                        <th id=\"T_78b3a_level0_row3\" class=\"row_heading level0 row3\" >MadMoneyStrategy (SLB)</th>\n",
       "                        <td id=\"T_78b3a_row3_col0\" class=\"data row3 col0\" >0.000000</td>\n",
       "                        <td id=\"T_78b3a_row3_col1\" class=\"data row3 col1\" >1000.000000</td>\n",
       "                        <td id=\"T_78b3a_row3_col2\" class=\"data row3 col2\" >1000.000000</td>\n",
       "                        <td id=\"T_78b3a_row3_col3\" class=\"data row3 col3\" >113.288591</td>\n",
       "                        <td id=\"T_78b3a_row3_col4\" class=\"data row3 col4\" >2020-03-16 04:00:00-04:00</td>\n",
       "                        <td id=\"T_78b3a_row3_col5\" class=\"data row3 col5\" >2021-05-21 19:00:00-04:00</td>\n",
       "            </tr>\n",
       "            <tr>\n",
       "                        <th id=\"T_78b3a_level0_row4\" class=\"row_heading level0 row4\" >MadMoneyStrategy (AMRN)</th>\n",
       "                        <td id=\"T_78b3a_row4_col0\" class=\"data row4 col0\" >0.000000</td>\n",
       "                        <td id=\"T_78b3a_row4_col1\" class=\"data row4 col1\" >1000.000000</td>\n",
       "                        <td id=\"T_78b3a_row4_col2\" class=\"data row4 col2\" >1000.000000</td>\n",
       "                        <td id=\"T_78b3a_row4_col3\" class=\"data row4 col3\" >-58.090909</td>\n",
       "                        <td id=\"T_78b3a_row4_col4\" class=\"data row4 col4\" >2020-03-16 04:00:00-04:00</td>\n",
       "                        <td id=\"T_78b3a_row4_col5\" class=\"data row4 col5\" >2021-05-21 18:00:00-04:00</td>\n",
       "            </tr>\n",
       "            <tr>\n",
       "                        <th id=\"T_78b3a_level0_row5\" class=\"row_heading level0 row5\" >MadMoneyStrategy (PLNT)</th>\n",
       "                        <td id=\"T_78b3a_row5_col0\" class=\"data row5 col0\" >-0.750520</td>\n",
       "                        <td id=\"T_78b3a_row5_col1\" class=\"data row5 col1\" >992.494800</td>\n",
       "                        <td id=\"T_78b3a_row5_col2\" class=\"data row5 col2\" >1015.374780</td>\n",
       "                        <td id=\"T_78b3a_row5_col3\" class=\"data row5 col3\" >59.316327</td>\n",
       "                        <td id=\"T_78b3a_row5_col4\" class=\"data row5 col4\" >2020-03-16 07:00:00-04:00</td>\n",
       "                        <td id=\"T_78b3a_row5_col5\" class=\"data row5 col5\" >2021-05-21 17:00:00-04:00</td>\n",
       "            </tr>\n",
       "            <tr>\n",
       "                        <th id=\"T_78b3a_level0_row6\" class=\"row_heading level0 row6\" >MadMoneyStrategy (MKTX)</th>\n",
       "                        <td id=\"T_78b3a_row6_col0\" class=\"data row6 col0\" >-2.589340</td>\n",
       "                        <td id=\"T_78b3a_row6_col1\" class=\"data row6 col1\" >974.106600</td>\n",
       "                        <td id=\"T_78b3a_row6_col2\" class=\"data row6 col2\" >1000.000000</td>\n",
       "                        <td id=\"T_78b3a_row6_col3\" class=\"data row6 col3\" >46.597010</td>\n",
       "                        <td id=\"T_78b3a_row6_col4\" class=\"data row6 col4\" >2020-03-16 09:00:00-04:00</td>\n",
       "                        <td id=\"T_78b3a_row6_col5\" class=\"data row6 col5\" >2021-05-21 16:00:00-04:00</td>\n",
       "            </tr>\n",
       "            <tr>\n",
       "                        <th id=\"T_78b3a_level0_row7\" class=\"row_heading level0 row7\" >MadMoneyStrategy (LHX)</th>\n",
       "                        <td id=\"T_78b3a_row7_col0\" class=\"data row7 col0\" >-3.270000</td>\n",
       "                        <td id=\"T_78b3a_row7_col1\" class=\"data row7 col1\" >967.300000</td>\n",
       "                        <td id=\"T_78b3a_row7_col2\" class=\"data row7 col2\" >1000.000000</td>\n",
       "                        <td id=\"T_78b3a_row7_col3\" class=\"data row7 col3\" >35.253243</td>\n",
       "                        <td id=\"T_78b3a_row7_col4\" class=\"data row7 col4\" >2020-03-16 09:30:00-04:00</td>\n",
       "                        <td id=\"T_78b3a_row7_col5\" class=\"data row7 col5\" >2021-05-21 16:00:00-04:00</td>\n",
       "            </tr>\n",
       "            <tr>\n",
       "                        <th id=\"T_78b3a_level0_row8\" class=\"row_heading level0 row8\" >MadMoneyStrategy (ED)</th>\n",
       "                        <td id=\"T_78b3a_row8_col0\" class=\"data row8 col0\" >-15.050000</td>\n",
       "                        <td id=\"T_78b3a_row8_col1\" class=\"data row8 col1\" >849.500000</td>\n",
       "                        <td id=\"T_78b3a_row8_col2\" class=\"data row8 col2\" >1000.000000</td>\n",
       "                        <td id=\"T_78b3a_row8_col3\" class=\"data row8 col3\" >-8.459845</td>\n",
       "                        <td id=\"T_78b3a_row8_col4\" class=\"data row8 col4\" >2020-03-16 07:00:00-04:00</td>\n",
       "                        <td id=\"T_78b3a_row8_col5\" class=\"data row8 col5\" >2021-05-21 19:00:00-04:00</td>\n",
       "            </tr>\n",
       "            <tr>\n",
       "                        <th id=\"T_78b3a_level0_row9\" class=\"row_heading level0 row9\" >MadMoneyStrategy (GOLD)</th>\n",
       "                        <td id=\"T_78b3a_row9_col0\" class=\"data row9 col0\" >-16.940220</td>\n",
       "                        <td id=\"T_78b3a_row9_col1\" class=\"data row9 col1\" >830.597800</td>\n",
       "                        <td id=\"T_78b3a_row9_col2\" class=\"data row9 col2\" >1000.000000</td>\n",
       "                        <td id=\"T_78b3a_row9_col3\" class=\"data row9 col3\" >66.106254</td>\n",
       "                        <td id=\"T_78b3a_row9_col4\" class=\"data row9 col4\" >2020-03-16 04:00:00-04:00</td>\n",
       "                        <td id=\"T_78b3a_row9_col5\" class=\"data row9 col5\" >2021-05-21 19:00:00-04:00</td>\n",
       "            </tr>\n",
       "    </tbody></table>"
      ],
      "text/plain": [
       "<pandas.io.formats.style.Styler at 0x24449583c48>"
      ]
     },
     "execution_count": 21,
     "metadata": {},
     "output_type": "execute_result"
    }
   ],
   "source": [
    "results_df.style.background_gradient(cmap=\"magma_r\")"
   ]
  }
 ],
 "metadata": {
  "kernelspec": {
   "display_name": "Python 3",
   "language": "python",
   "name": "python3"
  },
  "language_info": {
   "codemirror_mode": {
    "name": "ipython",
    "version": 3
   },
   "file_extension": ".py",
   "mimetype": "text/x-python",
   "name": "python",
   "nbconvert_exporter": "python",
   "pygments_lexer": "ipython3",
   "version": "3.7.6"
  }
 },
 "nbformat": 4,
 "nbformat_minor": 4
}
