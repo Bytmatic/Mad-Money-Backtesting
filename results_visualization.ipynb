{
 "cells": [
  {
   "cell_type": "markdown",
   "metadata": {},
   "source": [
    "# Visualization Creation for Stats"
   ]
  },
  {
   "cell_type": "markdown",
   "metadata": {},
   "source": [
    "Here I will plot the (manually) collected results from the backtesting.\n",
    "\n",
    "Results were produced by the other notebook (only the \"sell horizon\" parameter was changed)\n",
    "\n",
    "*(Code here is duplicated, and quite crappy. I only wanted to create pretty plots, these won't be reused ever)*"
   ]
  },
  {
   "cell_type": "code",
   "execution_count": 1,
   "metadata": {},
   "outputs": [],
   "source": [
    "import numpy as np\n",
    "import pandas as pd\n",
    "import matplotlib.pyplot as plt"
   ]
  },
  {
   "cell_type": "markdown",
   "metadata": {},
   "source": [
    "# Buy And Hold (and repeat)"
   ]
  },
  {
   "cell_type": "code",
   "execution_count": 2,
   "metadata": {},
   "outputs": [],
   "source": [
    "# Values are: (nb_neg_return, nb_pos_return, return_mean, return_median)\n",
    "hold_results = {1: (543, 170, -4.854356827159822, -3.011536590576179),\n",
    "                2: (523, 190, -4.388444272957948, -3.371403350830087),\n",
    "                5: (481, 232, -3.039593245566169, -2.724342590332083),\n",
    "                10: (455, 258, -3.0977166393622713, -3.42915859985352),\n",
    "                30: (385, 328, 1.848991565331101, -1.9344852294921906),\n",
    "                60: (348, 365, 9.750032702013764, 0.6996536254882585),\n",
    "                90: (329, 383, 12.109622220755437, 2.705466440200803),\n",
    "                120: (295, 418, 17.63430132436048, 5.150333183288581),\n",
    "                240: (227, 486, 31.576162330847115, 12.196797821044925),\n",
    "                365: (215, 498, 38.80414885588127, 18.16746044921874),\n",
    "                373: (185, 528, 42.67458882068666, 20.850483856201162)}"
   ]
  },
  {
   "cell_type": "code",
   "execution_count": 3,
   "metadata": {},
   "outputs": [],
   "source": [
    "def create_df(results:dict, index_name):\n",
    "    results_df = pd.DataFrame(results).T\n",
    "    results_df.index.name = index_name\n",
    "    results_df.columns = [\"Negative Returns\", \"Positive Returns\", \"Mean Return %\", \"Median Return %\"]\n",
    "    return results_df"
   ]
  },
  {
   "cell_type": "code",
   "execution_count": 4,
   "metadata": {},
   "outputs": [],
   "source": [
    "results_df = create_df(hold_results, \"Days Held\")"
   ]
  },
  {
   "cell_type": "code",
   "execution_count": 5,
   "metadata": {},
   "outputs": [
    {
     "data": {
      "text/html": [
       "<div>\n",
       "<style scoped>\n",
       "    .dataframe tbody tr th:only-of-type {\n",
       "        vertical-align: middle;\n",
       "    }\n",
       "\n",
       "    .dataframe tbody tr th {\n",
       "        vertical-align: top;\n",
       "    }\n",
       "\n",
       "    .dataframe thead th {\n",
       "        text-align: right;\n",
       "    }\n",
       "</style>\n",
       "<table border=\"1\" class=\"dataframe\">\n",
       "  <thead>\n",
       "    <tr style=\"text-align: right;\">\n",
       "      <th></th>\n",
       "      <th>Negative Returns</th>\n",
       "      <th>Positive Returns</th>\n",
       "      <th>Mean Return %</th>\n",
       "      <th>Median Return %</th>\n",
       "    </tr>\n",
       "    <tr>\n",
       "      <th>Days Held</th>\n",
       "      <th></th>\n",
       "      <th></th>\n",
       "      <th></th>\n",
       "      <th></th>\n",
       "    </tr>\n",
       "  </thead>\n",
       "  <tbody>\n",
       "    <tr>\n",
       "      <th>1</th>\n",
       "      <td>543.0</td>\n",
       "      <td>170.0</td>\n",
       "      <td>-4.854357</td>\n",
       "      <td>-3.011537</td>\n",
       "    </tr>\n",
       "    <tr>\n",
       "      <th>2</th>\n",
       "      <td>523.0</td>\n",
       "      <td>190.0</td>\n",
       "      <td>-4.388444</td>\n",
       "      <td>-3.371403</td>\n",
       "    </tr>\n",
       "    <tr>\n",
       "      <th>5</th>\n",
       "      <td>481.0</td>\n",
       "      <td>232.0</td>\n",
       "      <td>-3.039593</td>\n",
       "      <td>-2.724343</td>\n",
       "    </tr>\n",
       "    <tr>\n",
       "      <th>10</th>\n",
       "      <td>455.0</td>\n",
       "      <td>258.0</td>\n",
       "      <td>-3.097717</td>\n",
       "      <td>-3.429159</td>\n",
       "    </tr>\n",
       "    <tr>\n",
       "      <th>30</th>\n",
       "      <td>385.0</td>\n",
       "      <td>328.0</td>\n",
       "      <td>1.848992</td>\n",
       "      <td>-1.934485</td>\n",
       "    </tr>\n",
       "    <tr>\n",
       "      <th>60</th>\n",
       "      <td>348.0</td>\n",
       "      <td>365.0</td>\n",
       "      <td>9.750033</td>\n",
       "      <td>0.699654</td>\n",
       "    </tr>\n",
       "    <tr>\n",
       "      <th>90</th>\n",
       "      <td>329.0</td>\n",
       "      <td>383.0</td>\n",
       "      <td>12.109622</td>\n",
       "      <td>2.705466</td>\n",
       "    </tr>\n",
       "    <tr>\n",
       "      <th>120</th>\n",
       "      <td>295.0</td>\n",
       "      <td>418.0</td>\n",
       "      <td>17.634301</td>\n",
       "      <td>5.150333</td>\n",
       "    </tr>\n",
       "    <tr>\n",
       "      <th>240</th>\n",
       "      <td>227.0</td>\n",
       "      <td>486.0</td>\n",
       "      <td>31.576162</td>\n",
       "      <td>12.196798</td>\n",
       "    </tr>\n",
       "    <tr>\n",
       "      <th>365</th>\n",
       "      <td>215.0</td>\n",
       "      <td>498.0</td>\n",
       "      <td>38.804149</td>\n",
       "      <td>18.167460</td>\n",
       "    </tr>\n",
       "    <tr>\n",
       "      <th>373</th>\n",
       "      <td>185.0</td>\n",
       "      <td>528.0</td>\n",
       "      <td>42.674589</td>\n",
       "      <td>20.850484</td>\n",
       "    </tr>\n",
       "  </tbody>\n",
       "</table>\n",
       "</div>"
      ],
      "text/plain": [
       "           Negative Returns  Positive Returns  Mean Return %  Median Return %\n",
       "Days Held                                                                    \n",
       "1                     543.0             170.0      -4.854357        -3.011537\n",
       "2                     523.0             190.0      -4.388444        -3.371403\n",
       "5                     481.0             232.0      -3.039593        -2.724343\n",
       "10                    455.0             258.0      -3.097717        -3.429159\n",
       "30                    385.0             328.0       1.848992        -1.934485\n",
       "60                    348.0             365.0       9.750033         0.699654\n",
       "90                    329.0             383.0      12.109622         2.705466\n",
       "120                   295.0             418.0      17.634301         5.150333\n",
       "240                   227.0             486.0      31.576162        12.196798\n",
       "365                   215.0             498.0      38.804149        18.167460\n",
       "373                   185.0             528.0      42.674589        20.850484"
      ]
     },
     "execution_count": 5,
     "metadata": {},
     "output_type": "execute_result"
    }
   ],
   "source": [
    "results_df"
   ]
  },
  {
   "cell_type": "code",
   "execution_count": 6,
   "metadata": {},
   "outputs": [],
   "source": [
    "# print(results_df.to_markdown())"
   ]
  },
  {
   "cell_type": "code",
   "execution_count": 7,
   "metadata": {},
   "outputs": [
    {
     "data": {
      "image/png": "[encoded data removed]",
      "text/plain": [
       "<Figure size 720x288 with 1 Axes>"
      ]
     },
     "metadata": {
      "needs_background": "light"
     },
     "output_type": "display_data"
    }
   ],
   "source": [
    "x = list(hold_results.keys())\n",
    "y_mean = [hold_results[k][2] for k in x]\n",
    "y_median = [hold_results[k][3] for k in x]\n",
    "\n",
    "fig, ax = plt.subplots(1, 1, figsize=(10, 4))\n",
    "ax.plot(x, y_mean, marker=\".\", linestyle=\"-\", label=\"Mean\")\n",
    "ax.plot(x, y_median, marker=\".\", linestyle=\"-\", label=\"Median\")\n",
    "ax.set_xlabel(\"Number of days held\")\n",
    "ax.set_ylabel(\"Return (%)\")\n",
    "ax.axhline(0, color=\"r\", alpha=0.5, linestyle=\"--\")\n",
    "ax.set_title(\"\\\"Buy and Hold (and repeat)\\\" strategy with Mad Money buy recommendations\", y=1.1)\n",
    "ax.spines['right'].set_visible(False)\n",
    "ax.spines['top'].set_visible(False)\n",
    "ax.legend()\n",
    "ax.annotate(\"Buy and Hold (and repeat):\\nThe stocks are bought at the first mention on the show, then\\n\\\n",
    "held for N days. On the N-th day the long position is closed. \\n\\\n",
    "If there were other mentions after we sold, we repeat the whole process.\",\n",
    "            xy = (0, -0.3),\n",
    "            xycoords='axes fraction',\n",
    "            ha='left',\n",
    "            va=\"center\",\n",
    "            fontsize=9,\n",
    "            style=\"italic\")\n",
    "ax.annotate(\"(Data used from 2020-01-01\\nto 2021-06-04)\",\n",
    "            xy = (1, -0.3),\n",
    "            xycoords='axes fraction',\n",
    "            ha='right',\n",
    "            va=\"center\",\n",
    "            fontsize=9,\n",
    "            style=\"italic\");"
   ]
  },
  {
   "cell_type": "code",
   "execution_count": 8,
   "metadata": {},
   "outputs": [
    {
     "data": {
      "image/png": "[encoded data removed]",
      "text/plain": [
       "<Figure size 720x432 with 1 Axes>"
      ]
     },
     "metadata": {
      "needs_background": "light"
     },
     "output_type": "display_data"
    }
   ],
   "source": [
    "x = list(hold_results.keys())\n",
    "x_ticks = list(range(len(x)))\n",
    "y_neg = [hold_results[k][0] for k in x]\n",
    "y_pos = [hold_results[k][1] for k in x]\n",
    "\n",
    "bar_width = 0.6\n",
    "\n",
    "fig, ax = plt.subplots(1, 1, figsize=(10, 6))\n",
    "ax.bar(x_ticks, -1*np.array(y_neg), width=bar_width, color=\"r\", label=\"Negative\")\n",
    "ax.bar(x_ticks, y_pos, width=bar_width, color=\"g\", label=\"Positive\")\n",
    "ax.legend()\n",
    "ax.axhline(0, color=\"black\", linestyle=\"--\", alpha=0.5)\n",
    "ax.set_xticks(x_ticks)\n",
    "ax.spines['right'].set_visible(False)\n",
    "ax.spines['top'].set_visible(False)\n",
    "ax.set_xticklabels(x)\n",
    "ax.set_xlabel(\"Number of days held\")\n",
    "ax.set_ylabel(\"Return %\")\n",
    "ax.set_title(\"\\\"Buy and Hold (and repeat)\\\" strategy with Mad Money buy recommendations\", y=1.05)\n",
    "ax.annotate(\"Buy and Hold (and repeat):\\nThe stocks are bought at the first mention on the show, then\\n\\\n",
    "held for N days. On the N-th day the long position is closed. \\n\\\n",
    "If there were other mentions after we sold, we repeat the whole process.\",\n",
    "            xy = (0, -0.2),\n",
    "            xycoords='axes fraction',\n",
    "            ha='left',\n",
    "            va=\"center\",\n",
    "            fontsize=9,\n",
    "            style=\"italic\")\n",
    "ax.annotate(\"(Data used from 2020-01-01\\nto 2021-06-04)\",\n",
    "            xy = (1, -0.2),\n",
    "            xycoords='axes fraction',\n",
    "            ha='right',\n",
    "            va=\"center\",\n",
    "            fontsize=9,\n",
    "            style=\"italic\");"
   ]
  },
  {
   "cell_type": "markdown",
   "metadata": {},
   "source": [
    "# Short term investments (Cramer effect)"
   ]
  },
  {
   "cell_type": "code",
   "execution_count": 9,
   "metadata": {},
   "outputs": [],
   "source": [
    "results = {\"AfterShowBuyNextDayCloseSell\": (546, 166, -5.012256277795992, -3.1201426010131854),\n",
    "           \"AfterShowBuyNextDayOpenSell\": (570, 142, -5.100327785915943, -3.16921109008789),\n",
    "           \"NextDayOpenBuyNextDayCloseSell\": (543, 169, 0.8384597994257941, -2.9403008632659917)}"
   ]
  },
  {
   "cell_type": "code",
   "execution_count": 10,
   "metadata": {},
   "outputs": [],
   "source": [
    "results_df = create_df(results, \"Strategy\")"
   ]
  },
  {
   "cell_type": "code",
   "execution_count": 11,
   "metadata": {},
   "outputs": [
    {
     "data": {
      "text/html": [
       "<div>\n",
       "<style scoped>\n",
       "    .dataframe tbody tr th:only-of-type {\n",
       "        vertical-align: middle;\n",
       "    }\n",
       "\n",
       "    .dataframe tbody tr th {\n",
       "        vertical-align: top;\n",
       "    }\n",
       "\n",
       "    .dataframe thead th {\n",
       "        text-align: right;\n",
       "    }\n",
       "</style>\n",
       "<table border=\"1\" class=\"dataframe\">\n",
       "  <thead>\n",
       "    <tr style=\"text-align: right;\">\n",
       "      <th></th>\n",
       "      <th>Negative Returns</th>\n",
       "      <th>Positive Returns</th>\n",
       "      <th>Mean Return %</th>\n",
       "      <th>Median Return %</th>\n",
       "    </tr>\n",
       "    <tr>\n",
       "      <th>Strategy</th>\n",
       "      <th></th>\n",
       "      <th></th>\n",
       "      <th></th>\n",
       "      <th></th>\n",
       "    </tr>\n",
       "  </thead>\n",
       "  <tbody>\n",
       "    <tr>\n",
       "      <th>AfterShowBuyNextDayCloseSell</th>\n",
       "      <td>546.0</td>\n",
       "      <td>166.0</td>\n",
       "      <td>-5.012256</td>\n",
       "      <td>-3.120143</td>\n",
       "    </tr>\n",
       "    <tr>\n",
       "      <th>AfterShowBuyNextDayOpenSell</th>\n",
       "      <td>570.0</td>\n",
       "      <td>142.0</td>\n",
       "      <td>-5.100328</td>\n",
       "      <td>-3.169211</td>\n",
       "    </tr>\n",
       "    <tr>\n",
       "      <th>NextDayOpenBuyNextDayCloseSell</th>\n",
       "      <td>543.0</td>\n",
       "      <td>169.0</td>\n",
       "      <td>0.838460</td>\n",
       "      <td>-2.940301</td>\n",
       "    </tr>\n",
       "  </tbody>\n",
       "</table>\n",
       "</div>"
      ],
      "text/plain": [
       "                                Negative Returns  Positive Returns  \\\n",
       "Strategy                                                             \n",
       "AfterShowBuyNextDayCloseSell               546.0             166.0   \n",
       "AfterShowBuyNextDayOpenSell                570.0             142.0   \n",
       "NextDayOpenBuyNextDayCloseSell             543.0             169.0   \n",
       "\n",
       "                                Mean Return %  Median Return %  \n",
       "Strategy                                                        \n",
       "AfterShowBuyNextDayCloseSell        -5.012256        -3.120143  \n",
       "AfterShowBuyNextDayOpenSell         -5.100328        -3.169211  \n",
       "NextDayOpenBuyNextDayCloseSell       0.838460        -2.940301  "
      ]
     },
     "execution_count": 11,
     "metadata": {},
     "output_type": "execute_result"
    }
   ],
   "source": [
    "results_df"
   ]
  },
  {
   "cell_type": "code",
   "execution_count": 12,
   "metadata": {},
   "outputs": [],
   "source": [
    "# print(results_df.to_markdown())"
   ]
  },
  {
   "cell_type": "code",
   "execution_count": null,
   "metadata": {},
   "outputs": [],
   "source": []
  }
 ],
 "metadata": {
  "kernelspec": {
   "display_name": "Python 3",
   "language": "python",
   "name": "python3"
  },
  "language_info": {
   "codemirror_mode": {
    "name": "ipython",
    "version": 3
   },
   "file_extension": ".py",
   "mimetype": "text/x-python",
   "name": "python",
   "nbconvert_exporter": "python",
   "pygments_lexer": "ipython3",
   "version": "3.8.5"
  }
 },
 "nbformat": 4,
 "nbformat_minor": 4
}
